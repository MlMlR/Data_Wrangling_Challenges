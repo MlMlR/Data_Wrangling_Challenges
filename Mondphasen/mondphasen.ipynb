{
 "cells": [
  {
   "cell_type": "code",
   "execution_count": null,
   "metadata": {},
   "outputs": [],
   "source": [
    "import pandas as pd\n",
    "import numpy as np\n",
    "import matplotlib.pyplot as plt"
   ]
  },
  {
   "attachments": {},
   "cell_type": "markdown",
   "metadata": {},
   "source": [
    "# Vollmondgeburten"
   ]
  },
  {
   "attachments": {},
   "cell_type": "markdown",
   "metadata": {},
   "source": [
    "## Aufgabe\n",
    "Kürzlich hat mir jemand gesagt, dass nach dem Vollmond besonders viele Babies zur Welt kämen.\n",
    "Der Mond scheint durchaus Einfluss auf uns zu haben, aber diese Aussage schien mir doch etwas\n",
    "gewagt. Da zum Glück Daten zur täglichen Anzahl der Geburten schon länger erfasst werden,\n",
    "können wir diese Aussage relativ einfach überprüfen. Das Bundesamt für Statistik stellt Daten\n",
    "mit der täglichen Geburtenzahl ab dem Jahr 1969 zur Verfügung. Sie finden die Excel-Datei\n",
    "’BFS_VitalStatistics.xlsx’ bei den mitgelieferten Dateien."
   ]
  },
  {
   "attachments": {},
   "cell_type": "markdown",
   "metadata": {},
   "source": [
    "## a)\n",
    "\n",
    "Lesen Sie die Datei in ein Data Frame und bringen Sie die Daten in das Format\n",
    "\n",
    "Kanton, Jahr, Monat, Tag, Anzahl, Geburten\n",
    "\n",
    "Stellen Sie sicher, dass Sie alle Verunreinigungen entfernt haben und dass keine fehlenden Werte vorkommen. Setzen Sie den Datentyp `float` für alle Spalten ausser `Kanton` (Pandas hat Probleme mit fehlenden Werten für den Datentyp `int`)."
   ]
  },
  {
   "cell_type": "code",
   "execution_count": null,
   "metadata": {},
   "outputs": [],
   "source": [
    "columns_to_read = list(range(38, 573))  # AM to PQ\n",
    "columns_to_read.append(1)  # Column A\n",
    "\n",
    "df = pd.read_excel('BFS_VitalStatistics.xlsx', header=[3], usecols='A, D, AN:PQ')\n",
    "df = df.rename(columns={'Unnamed: 0': 'Jahr', 'Unnamed: 3': 'Kanton'})\n",
    "df['Jahr'] = df['Jahr'].fillna(method='ffill')\n",
    "df = df.dropna(subset=['Kanton'])\n",
    "df = df.filter(regex=r'^(?!.*indication).*$', axis=1)\n",
    "df = df.filter(regex=r'^(?!.*total).*$', axis=1)\n",
    "\n",
    "df"
   ]
  },
  {
   "cell_type": "code",
   "execution_count": null,
   "metadata": {},
   "outputs": [],
   "source": [
    "df = df.melt(id_vars=['Jahr', 'Kanton'], var_name='TagMonat', value_name='Anzahl Geburten')"
   ]
  },
  {
   "cell_type": "code",
   "execution_count": null,
   "metadata": {},
   "outputs": [],
   "source": [
    "df[['Tag', 'Monat']] = df['TagMonat'].str.split('.', expand=True)\n"
   ]
  },
  {
   "cell_type": "code",
   "execution_count": null,
   "metadata": {},
   "outputs": [],
   "source": [
    "geburten = df[['Kanton','Jahr', 'Monat', 'Tag', 'Anzahl Geburten']]\n",
    "geburten.loc[:, 'Anzahl Geburten'] = pd.to_numeric(df['Anzahl Geburten'], errors='coerce')\n",
    "geburten"
   ]
  },
  {
   "attachments": {},
   "cell_type": "markdown",
   "metadata": {},
   "source": [
    "## b)\n",
    "\n",
    "Leiten Sie nun aus den Spalten *Jahr*, *Monat* und *Tag* einen Datumstring ab und bringen Sie diesen in ein geeignetes Datumsformat. Beschränken Sie das Data Frame ausserdem auf Daten nur aus der ganzen Schweiz (Kanton='Switzerland'). Am Schluss sollte ihr Data Frame im folgenden Format vorliegen:\n",
    "\n",
    "Datum, Anzahl Geburten"
   ]
  },
  {
   "cell_type": "code",
   "execution_count": null,
   "metadata": {},
   "outputs": [],
   "source": [
    "geburten_ch = geburten[geburten['Kanton'] == 'Switzerland'].copy()\n",
    "geburten_ch['Datum'] = pd.to_datetime(geburten_ch['Jahr'].astype(str) + '-' + geburten_ch['Monat'].astype(str) + '-' + geburten_ch['Tag'].astype(str), errors='coerce')\n",
    "geburten_ch = geburten_ch.dropna(subset=['Datum'])\n",
    "geburten_ch = geburten_ch.sort_values(by=['Datum'])\n",
    "geburten_ch = geburten_ch.reset_index(drop=True)\n",
    "\n",
    "geburten_ch = geburten_ch[['Datum', 'Anzahl Geburten']]\n",
    "geburten_ch"
   ]
  },
  {
   "attachments": {},
   "cell_type": "markdown",
   "metadata": {},
   "source": [
    "## c)\n",
    "Visualisieren Sie exemplarisch die Anzahl der Geburten pro Tag in der Schweiz (Kanton='Switzerland') im Jahr 2019. Stellen Sie dabei sicher, dass die $x$-Achse korrekt als Datum dargestellt wird."
   ]
  },
  {
   "cell_type": "code",
   "execution_count": null,
   "metadata": {},
   "outputs": [],
   "source": [
    "ch19 = geburten_ch[geburten_ch['Datum'].dt.year == 2019]\n",
    "ch19\n"
   ]
  },
  {
   "cell_type": "code",
   "execution_count": null,
   "metadata": {},
   "outputs": [],
   "source": [
    "plt.scatter(ch19['Datum'], ch19['Anzahl Geburten'])\n",
    "plt.xlabel('Datum')\n",
    "plt.ylabel('Anzahl Geburten')\n",
    "plt.show()\n",
    "\n",
    "plt.plot(ch19['Datum'], ch19['Anzahl Geburten'])\n",
    "plt.xlabel('Datum')\n",
    "plt.ylabel('Anzahl Geburten')\n",
    "plt.show()"
   ]
  },
  {
   "attachments": {},
   "cell_type": "markdown",
   "metadata": {},
   "source": [
    "## d)\n",
    "\n",
    "In der Datei `'mondphasen.csv'` finden Sie für jedes Datum seit 1970 die zugehörige Mondphase, benannt nach dem folgenden Schema:\n",
    "\n",
    "\n",
    "Berechnen Sie nun die durchschnittliche Anzahl der Geburten in der Schweiz pro Mondphase seit 1970. Sehen Sie einen signifikanten Unterschied? (ohne auf statistische Tests zurückzugreifen) Natürlich müssten wir hier eine vertiefte Analyse durchführen, um sauber argumentieren zu können, aber einen ersten Eindruck können wir damit gut gewinnen."
   ]
  },
  {
   "cell_type": "code",
   "execution_count": null,
   "metadata": {},
   "outputs": [],
   "source": [
    "mp = pd.read_csv('mondphasen.csv')\n",
    "mp['Datum'] = pd.to_datetime(mp['Datum'], errors='coerce')\n",
    "geburten_ch['Datum'] = pd.to_datetime(geburten_ch['Datum'], errors='coerce')\n",
    "mp"
   ]
  },
  {
   "cell_type": "code",
   "execution_count": null,
   "metadata": {},
   "outputs": [],
   "source": [
    "gpm = pd.merge_ordered(geburten_ch, mp, on='Datum', how='left').dropna()"
   ]
  },
  {
   "cell_type": "code",
   "execution_count": null,
   "metadata": {},
   "outputs": [],
   "source": [
    "gpm"
   ]
  },
  {
   "attachments": {},
   "cell_type": "markdown",
   "metadata": {},
   "source": [
    "## e)\n",
    "\n",
    "Visualisieren Sie nun die durchschnittliche Anzahl der Geburten pro Wochentag über die Jahre hinweg. Finden Sie ein Muster?"
   ]
  },
  {
   "cell_type": "code",
   "execution_count": null,
   "metadata": {},
   "outputs": [],
   "source": [
    "gpm['Wochentag'] = gpm['Datum'].dt.day_name()"
   ]
  },
  {
   "cell_type": "code",
   "execution_count": null,
   "metadata": {},
   "outputs": [],
   "source": [
    "plt.scatter(gpm['Wochentag'], gpm['Anzahl Geburten'])\n",
    "plt.xlabel('Wochentag')\n",
    "plt.xticks(rotation=45)\n",
    "plt.ylabel('Anzahl Geburten')\n",
    "plt.show()"
   ]
  },
  {
   "cell_type": "code",
   "execution_count": null,
   "metadata": {},
   "outputs": [],
   "source": []
  },
  {
   "cell_type": "code",
   "execution_count": null,
   "metadata": {},
   "outputs": [],
   "source": [
    "mean_births_per_moonphase = gpm.groupby('Mondphase')['Anzahl Geburten'].mean()\n",
    "print(mean_births_per_moonphase)\n",
    "plt.scatter(gpm['Mondphase'], gpm['Anzahl Geburten'])\n",
    "plt.xlabel('Mondphase')\n",
    "plt.xticks(rotation=80)\n",
    "plt.ylabel('Anzahl Geburten')\n",
    "plt.show()"
   ]
  },
  {
   "cell_type": "code",
   "execution_count": null,
   "metadata": {},
   "outputs": [],
   "source": []
  },
  {
   "cell_type": "code",
   "execution_count": null,
   "metadata": {},
   "outputs": [],
   "source": []
  }
 ],
 "metadata": {
  "kernelspec": {
   "display_name": "Data_Wrangling_Challenges-kWIRVacj",
   "language": "python",
   "name": "python3"
  },
  "language_info": {
   "codemirror_mode": {
    "name": "ipython",
    "version": 3
   },
   "file_extension": ".py",
   "mimetype": "text/x-python",
   "name": "python",
   "nbconvert_exporter": "python",
   "pygments_lexer": "ipython3",
   "version": "3.10.9"
  }
 },
 "nbformat": 4,
 "nbformat_minor": 2
}
