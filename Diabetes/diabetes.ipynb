{
 "cells": [
  {
   "cell_type": "code",
   "execution_count": null,
   "metadata": {},
   "outputs": [],
   "source": [
    "import pandas as pd\n",
    "import numpy as np\n",
    "import seaborn as sns\n",
    "import matplotlib.pyplot as plt"
   ]
  },
  {
   "cell_type": "code",
   "execution_count": null,
   "metadata": {},
   "outputs": [],
   "source": [
    "documentation = pd.read_excel('diabetes.xlsx', sheet_name='documentation', skiprows=3, usecols=\"A:b\")\n",
    "documentation.head(9)"
   ]
  },
  {
   "cell_type": "code",
   "execution_count": null,
   "metadata": {},
   "outputs": [],
   "source": [
    "df = pd.read_excel('diabetes.xlsx', sheet_name='data', skiprows=2, usecols=\"A:I\")\n",
    "df.head()"
   ]
  },
  {
   "cell_type": "code",
   "execution_count": null,
   "metadata": {},
   "outputs": [],
   "source": [
    "df.describe()"
   ]
  },
  {
   "cell_type": "code",
   "execution_count": null,
   "metadata": {},
   "outputs": [],
   "source": [
    "columns_to_replace = ['gtt', 'blood_pressure', 'triceps_skin_fold_thickness', 'insulin', 'bmi', 'dpf', 'age']\n",
    "\n",
    "df[columns_to_replace] = df[columns_to_replace].replace(0, np.nan)\n",
    "df.describe()"
   ]
  },
  {
   "cell_type": "code",
   "execution_count": null,
   "metadata": {},
   "outputs": [],
   "source": [
    "def plot_distribution(df):\n",
    "    # Iteriere über die Spalten des DataFrames\n",
    "    for column in df.columns:\n",
    "        # Erstelle ein neues Figure und Axes-Objekt für jede Spalte\n",
    "        fig, ax = plt.subplots(nrows=1, ncols=2, figsize=(10, 4))\n",
    "        \n",
    "        # Histogramm\n",
    "        ax[0].hist(df[column], df[column].count(), edgecolor='black')\n",
    "        ax[0].set_title(f\"Histogramm: {column}\")\n",
    "        ax[0].set_xlabel(column)\n",
    "        ax[0].set_ylabel(\"Häufigkeit\")\n",
    "        \n",
    "        # Boxplot\n",
    "        sns.boxplot(data=df[column], ax=ax[1])\n",
    "        ax[1].set_title(f\"Boxplot: {column}\")\n",
    "        ax[1].set_ylabel(column)\n",
    "        \n",
    "        # Zeige das Figure\n",
    "        plt.tight_layout()\n",
    "        plt.show()"
   ]
  },
  {
   "attachments": {},
   "cell_type": "markdown",
   "metadata": {},
   "source": []
  },
  {
   "cell_type": "code",
   "execution_count": null,
   "metadata": {},
   "outputs": [],
   "source": [
    "plot_distribution(df)"
   ]
  },
  {
   "cell_type": "code",
   "execution_count": null,
   "metadata": {},
   "outputs": [],
   "source": [
    "def plot_histograms_by_class(df, class_column):\n",
    "    unique_classes = df[class_column].unique()\n",
    "    \n",
    "    # Iteriere über die Spalten des DataFrames\n",
    "    for column in df.columns:\n",
    "        if column != class_column:\n",
    "            # Erstelle ein neues Figure und Axes-Objekt\n",
    "            fig, ax = plt.subplots(figsize=(8, 4))\n",
    "            \n",
    "            # Histogramm für class = 0\n",
    "            data_class_0 = df[df[class_column] == 0][column]\n",
    "            ax.hist(data_class_0, bins=20, edgecolor='black', alpha=0.5, label='Class 0')\n",
    "            \n",
    "            # Histogramm für class = 1\n",
    "            data_class_1 = df[df[class_column] == 1][column]\n",
    "            ax.hist(data_class_1, bins=20, edgecolor='black', alpha=0.5, label='Class 1')\n",
    "            \n",
    "            ax.set_title(f\"Histogramm: {column}\")\n",
    "            ax.set_xlabel(column)\n",
    "            ax.set_ylabel(\"Häufigkeit\")\n",
    "            ax.legend()\n",
    "            \n",
    "            # Zeige das Figure\n",
    "            plt.tight_layout()\n",
    "            plt.show()"
   ]
  },
  {
   "cell_type": "code",
   "execution_count": null,
   "metadata": {},
   "outputs": [],
   "source": [
    "plot_histograms_by_class(df, \"class\")"
   ]
  },
  {
   "cell_type": "code",
   "execution_count": null,
   "metadata": {},
   "outputs": [],
   "source": []
  }
 ],
 "metadata": {
  "kernelspec": {
   "display_name": "Data_Wrangling_Challenges-kWIRVacj",
   "language": "python",
   "name": "python3"
  },
  "language_info": {
   "codemirror_mode": {
    "name": "ipython",
    "version": 3
   },
   "file_extension": ".py",
   "mimetype": "text/x-python",
   "name": "python",
   "nbconvert_exporter": "python",
   "pygments_lexer": "ipython3",
   "version": "3.10.9"
  },
  "orig_nbformat": 4
 },
 "nbformat": 4,
 "nbformat_minor": 2
}
