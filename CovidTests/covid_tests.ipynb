{
 "cells": [
  {
   "attachments": {},
   "cell_type": "markdown",
   "metadata": {},
   "source": [
    "#  Covid-Test-Triage"
   ]
  },
  {
   "cell_type": "code",
   "execution_count": 31,
   "metadata": {},
   "outputs": [],
   "source": [
    "import pandas as pd\n",
    "import numpy as np"
   ]
  },
  {
   "attachments": {},
   "cell_type": "markdown",
   "metadata": {},
   "source": [
    "## a)\n",
    "\n",
    "Lesen Sie die Datei in ein Data Frame ein."
   ]
  },
  {
   "cell_type": "code",
   "execution_count": 32,
   "metadata": {},
   "outputs": [
    {
     "name": "stderr",
     "output_type": "stream",
     "text": [
      "C:\\Users\\bwuermli\\AppData\\Local\\Temp\\ipykernel_8784\\772676844.py:1: DtypeWarning: Columns (7) have mixed types. Specify dtype option on import or set low_memory=False.\n",
      "  df = pd.read_csv('corona_tests.csv')\n"
     ]
    },
    {
     "data": {
      "text/html": [
       "<div>\n",
       "<style scoped>\n",
       "    .dataframe tbody tr th:only-of-type {\n",
       "        vertical-align: middle;\n",
       "    }\n",
       "\n",
       "    .dataframe tbody tr th {\n",
       "        vertical-align: top;\n",
       "    }\n",
       "\n",
       "    .dataframe thead th {\n",
       "        text-align: right;\n",
       "    }\n",
       "</style>\n",
       "<table border=\"1\" class=\"dataframe\">\n",
       "  <thead>\n",
       "    <tr style=\"text-align: right;\">\n",
       "      <th></th>\n",
       "      <th>test_date</th>\n",
       "      <th>cough</th>\n",
       "      <th>fever</th>\n",
       "      <th>sore_throat</th>\n",
       "      <th>shortness_of_breath</th>\n",
       "      <th>head_ache</th>\n",
       "      <th>corona_result</th>\n",
       "      <th>age_60_and_above</th>\n",
       "      <th>gender</th>\n",
       "      <th>test_indication</th>\n",
       "    </tr>\n",
       "  </thead>\n",
       "  <tbody>\n",
       "    <tr>\n",
       "      <th>0</th>\n",
       "      <td>2020-04-30</td>\n",
       "      <td>0.0</td>\n",
       "      <td>0.0</td>\n",
       "      <td>0.0</td>\n",
       "      <td>0.0</td>\n",
       "      <td>0.0</td>\n",
       "      <td>negative</td>\n",
       "      <td>NaN</td>\n",
       "      <td>female</td>\n",
       "      <td>Other</td>\n",
       "    </tr>\n",
       "    <tr>\n",
       "      <th>1</th>\n",
       "      <td>2020-04-30</td>\n",
       "      <td>1.0</td>\n",
       "      <td>0.0</td>\n",
       "      <td>0.0</td>\n",
       "      <td>0.0</td>\n",
       "      <td>0.0</td>\n",
       "      <td>negative</td>\n",
       "      <td>NaN</td>\n",
       "      <td>female</td>\n",
       "      <td>Other</td>\n",
       "    </tr>\n",
       "    <tr>\n",
       "      <th>2</th>\n",
       "      <td>2020-04-30</td>\n",
       "      <td>0.0</td>\n",
       "      <td>1.0</td>\n",
       "      <td>0.0</td>\n",
       "      <td>0.0</td>\n",
       "      <td>0.0</td>\n",
       "      <td>negative</td>\n",
       "      <td>NaN</td>\n",
       "      <td>male</td>\n",
       "      <td>Other</td>\n",
       "    </tr>\n",
       "    <tr>\n",
       "      <th>3</th>\n",
       "      <td>2020-04-30</td>\n",
       "      <td>1.0</td>\n",
       "      <td>0.0</td>\n",
       "      <td>0.0</td>\n",
       "      <td>0.0</td>\n",
       "      <td>0.0</td>\n",
       "      <td>negative</td>\n",
       "      <td>NaN</td>\n",
       "      <td>female</td>\n",
       "      <td>Other</td>\n",
       "    </tr>\n",
       "    <tr>\n",
       "      <th>4</th>\n",
       "      <td>2020-04-30</td>\n",
       "      <td>1.0</td>\n",
       "      <td>0.0</td>\n",
       "      <td>0.0</td>\n",
       "      <td>0.0</td>\n",
       "      <td>0.0</td>\n",
       "      <td>negative</td>\n",
       "      <td>NaN</td>\n",
       "      <td>male</td>\n",
       "      <td>Other</td>\n",
       "    </tr>\n",
       "  </tbody>\n",
       "</table>\n",
       "</div>"
      ],
      "text/plain": [
       "    test_date  cough  fever  sore_throat  shortness_of_breath  head_ache  \\\n",
       "0  2020-04-30    0.0    0.0          0.0                  0.0        0.0   \n",
       "1  2020-04-30    1.0    0.0          0.0                  0.0        0.0   \n",
       "2  2020-04-30    0.0    1.0          0.0                  0.0        0.0   \n",
       "3  2020-04-30    1.0    0.0          0.0                  0.0        0.0   \n",
       "4  2020-04-30    1.0    0.0          0.0                  0.0        0.0   \n",
       "\n",
       "  corona_result age_60_and_above  gender test_indication  \n",
       "0      negative              NaN  female           Other  \n",
       "1      negative              NaN  female           Other  \n",
       "2      negative              NaN    male           Other  \n",
       "3      negative              NaN  female           Other  \n",
       "4      negative              NaN    male           Other  "
      ]
     },
     "execution_count": 32,
     "metadata": {},
     "output_type": "execute_result"
    }
   ],
   "source": [
    "df = pd.read_csv('corona_tests.csv')\n",
    "df.head()"
   ]
  },
  {
   "cell_type": "code",
   "execution_count": 33,
   "metadata": {},
   "outputs": [
    {
     "data": {
      "text/html": [
       "<div>\n",
       "<style scoped>\n",
       "    .dataframe tbody tr th:only-of-type {\n",
       "        vertical-align: middle;\n",
       "    }\n",
       "\n",
       "    .dataframe tbody tr th {\n",
       "        vertical-align: top;\n",
       "    }\n",
       "\n",
       "    .dataframe thead th {\n",
       "        text-align: right;\n",
       "    }\n",
       "</style>\n",
       "<table border=\"1\" class=\"dataframe\">\n",
       "  <thead>\n",
       "    <tr style=\"text-align: right;\">\n",
       "      <th></th>\n",
       "      <th>cough</th>\n",
       "      <th>fever</th>\n",
       "      <th>sore_throat</th>\n",
       "      <th>shortness_of_breath</th>\n",
       "      <th>head_ache</th>\n",
       "    </tr>\n",
       "  </thead>\n",
       "  <tbody>\n",
       "    <tr>\n",
       "      <th>count</th>\n",
       "      <td>278596.000000</td>\n",
       "      <td>278596.000000</td>\n",
       "      <td>278847.000000</td>\n",
       "      <td>278847.000000</td>\n",
       "      <td>278847.000000</td>\n",
       "    </tr>\n",
       "    <tr>\n",
       "      <th>mean</th>\n",
       "      <td>0.151574</td>\n",
       "      <td>0.078077</td>\n",
       "      <td>0.006907</td>\n",
       "      <td>0.005655</td>\n",
       "      <td>0.008657</td>\n",
       "    </tr>\n",
       "    <tr>\n",
       "      <th>std</th>\n",
       "      <td>0.358608</td>\n",
       "      <td>0.268294</td>\n",
       "      <td>0.082821</td>\n",
       "      <td>0.074990</td>\n",
       "      <td>0.092640</td>\n",
       "    </tr>\n",
       "    <tr>\n",
       "      <th>min</th>\n",
       "      <td>0.000000</td>\n",
       "      <td>0.000000</td>\n",
       "      <td>0.000000</td>\n",
       "      <td>0.000000</td>\n",
       "      <td>0.000000</td>\n",
       "    </tr>\n",
       "    <tr>\n",
       "      <th>25%</th>\n",
       "      <td>0.000000</td>\n",
       "      <td>0.000000</td>\n",
       "      <td>0.000000</td>\n",
       "      <td>0.000000</td>\n",
       "      <td>0.000000</td>\n",
       "    </tr>\n",
       "    <tr>\n",
       "      <th>50%</th>\n",
       "      <td>0.000000</td>\n",
       "      <td>0.000000</td>\n",
       "      <td>0.000000</td>\n",
       "      <td>0.000000</td>\n",
       "      <td>0.000000</td>\n",
       "    </tr>\n",
       "    <tr>\n",
       "      <th>75%</th>\n",
       "      <td>0.000000</td>\n",
       "      <td>0.000000</td>\n",
       "      <td>0.000000</td>\n",
       "      <td>0.000000</td>\n",
       "      <td>0.000000</td>\n",
       "    </tr>\n",
       "    <tr>\n",
       "      <th>max</th>\n",
       "      <td>1.000000</td>\n",
       "      <td>1.000000</td>\n",
       "      <td>1.000000</td>\n",
       "      <td>1.000000</td>\n",
       "      <td>1.000000</td>\n",
       "    </tr>\n",
       "  </tbody>\n",
       "</table>\n",
       "</div>"
      ],
      "text/plain": [
       "               cough          fever    sore_throat  shortness_of_breath  \\\n",
       "count  278596.000000  278596.000000  278847.000000        278847.000000   \n",
       "mean        0.151574       0.078077       0.006907             0.005655   \n",
       "std         0.358608       0.268294       0.082821             0.074990   \n",
       "min         0.000000       0.000000       0.000000             0.000000   \n",
       "25%         0.000000       0.000000       0.000000             0.000000   \n",
       "50%         0.000000       0.000000       0.000000             0.000000   \n",
       "75%         0.000000       0.000000       0.000000             0.000000   \n",
       "max         1.000000       1.000000       1.000000             1.000000   \n",
       "\n",
       "           head_ache  \n",
       "count  278847.000000  \n",
       "mean        0.008657  \n",
       "std         0.092640  \n",
       "min         0.000000  \n",
       "25%         0.000000  \n",
       "50%         0.000000  \n",
       "75%         0.000000  \n",
       "max         1.000000  "
      ]
     },
     "execution_count": 33,
     "metadata": {},
     "output_type": "execute_result"
    }
   ],
   "source": [
    "df.describe()"
   ]
  },
  {
   "cell_type": "code",
   "execution_count": 34,
   "metadata": {},
   "outputs": [
    {
     "name": "stdout",
     "output_type": "stream",
     "text": [
      "<class 'pandas.core.frame.DataFrame'>\n",
      "RangeIndex: 278848 entries, 0 to 278847\n",
      "Data columns (total 10 columns):\n",
      " #   Column               Non-Null Count   Dtype  \n",
      "---  ------               --------------   -----  \n",
      " 0   test_date            278848 non-null  object \n",
      " 1   cough                278596 non-null  float64\n",
      " 2   fever                278596 non-null  float64\n",
      " 3   sore_throat          278847 non-null  float64\n",
      " 4   shortness_of_breath  278847 non-null  float64\n",
      " 5   head_ache            278847 non-null  float64\n",
      " 6   corona_result        278848 non-null  object \n",
      " 7   age_60_and_above     151528 non-null  object \n",
      " 8   gender               259285 non-null  object \n",
      " 9   test_indication      278848 non-null  object \n",
      "dtypes: float64(5), object(5)\n",
      "memory usage: 21.3+ MB\n"
     ]
    }
   ],
   "source": [
    "df.info()"
   ]
  },
  {
   "attachments": {},
   "cell_type": "markdown",
   "metadata": {},
   "source": [
    "## b)\n",
    "\n",
    "Verschaffen Sie sich einen ersten Überblick über die Daten. Geben Sie dazu die verschiedenen (einzigartigen) Ausprägungen aller Merkmale ausser dem Datum aus."
   ]
  },
  {
   "cell_type": "code",
   "execution_count": 35,
   "metadata": {},
   "outputs": [
    {
     "name": "stdout",
     "output_type": "stream",
     "text": [
      "Unique values of 'cough':\n",
      "   0.0 (Count: 236368, Percentage: 84.77%)\n",
      "   1.0 (Count: 42228, Percentage: 15.14%)\n",
      "   nan (Count: 252, Percentage: 0.09%)\n",
      "Unique values of 'fever':\n",
      "   0.0 (Count: 256844, Percentage: 92.11%)\n",
      "   1.0 (Count: 21752, Percentage: 7.80%)\n",
      "   nan (Count: 252, Percentage: 0.09%)\n",
      "Unique values of 'sore_throat':\n",
      "   0.0 (Count: 276921, Percentage: 99.31%)\n",
      "   1.0 (Count: 1926, Percentage: 0.69%)\n",
      "   nan (Count: 1, Percentage: 0.00%)\n",
      "Unique values of 'shortness_of_breath':\n",
      "   0.0 (Count: 277270, Percentage: 99.43%)\n",
      "   1.0 (Count: 1577, Percentage: 0.57%)\n",
      "   nan (Count: 1, Percentage: 0.00%)\n",
      "Unique values of 'head_ache':\n",
      "   0.0 (Count: 276433, Percentage: 99.13%)\n",
      "   1.0 (Count: 2414, Percentage: 0.87%)\n",
      "   nan (Count: 1, Percentage: 0.00%)\n",
      "Unique values of 'corona_result':\n",
      "   negative (Count: 260227, Percentage: 93.32%)\n",
      "   positive (Count: 14729, Percentage: 5.28%)\n",
      "   other (Count: 3892, Percentage: 1.40%)\n",
      "Unique values of 'age_60_and_above':\n",
      "   nan (Count: 127320, Percentage: 45.66%)\n",
      "   Yes (Count: 25825, Percentage: 9.26%)\n",
      "   No (Count: 125703, Percentage: 45.08%)\n",
      "Unique values of 'gender':\n",
      "   female (Count: 130158, Percentage: 46.68%)\n",
      "   male (Count: 129127, Percentage: 46.31%)\n",
      "   nan (Count: 19563, Percentage: 7.02%)\n",
      "Unique values of 'test_indication':\n",
      "   Other (Count: 242741, Percentage: 87.05%)\n",
      "   Abroad (Count: 25468, Percentage: 9.13%)\n",
      "   Contact with confirmed (Count: 10639, Percentage: 3.82%)\n"
     ]
    }
   ],
   "source": [
    "def print_unique_values(df, columns):\n",
    "    total_rows = df.shape[0]\n",
    "    for column in columns:\n",
    "        unique_values = df[column].unique()\n",
    "        print(\"Unique values of '{}':\".format(column))\n",
    "        for value in unique_values:\n",
    "            if pd.isnull(value):\n",
    "                count = df[column].isnull().sum()\n",
    "            else:\n",
    "                count = df[df[column] == value].shape[0]\n",
    "            percentage = (count / total_rows) * 100\n",
    "            print(\"   {} (Count: {}, Percentage: {:.2f}%)\".format(value, count, percentage))\n",
    "\n",
    "        \n",
    "columns = ['cough', 'fever', 'sore_throat', 'shortness_of_breath', 'head_ache', 'corona_result', 'age_60_and_above', 'gender', 'test_indication']\n",
    "print_unique_values(df, columns)"
   ]
  },
  {
   "attachments": {},
   "cell_type": "markdown",
   "metadata": {},
   "source": [
    "## c)\n",
    "\n",
    "Setzen Sie für jede Spalte einen sinnvollen Datentyp entsprechend den Ausprägungen. Stellen Sie dabei sicher, dass fehlende Werte auch sauber als solche gekennzeichnet sind. \n",
    "\n",
    "**Hinweis:** Der Integer-Datentyp von Pandas kann nicht mit fehlenden Werten umgehen, hier dürfen Sie stattdessen Float verwenden."
   ]
  },
  {
   "cell_type": "code",
   "execution_count": 36,
   "metadata": {},
   "outputs": [],
   "source": [
    "def convert_columns_to_float(df, columns):\n",
    "    for column in columns:\n",
    "        df[column] = pd.to_numeric(df[column], errors='coerce')\n",
    "\n",
    "columns = ['cough', 'fever', 'sore_throat', 'shortness_of_breath', 'head_ache']\n",
    "convert_columns_to_float(df, columns)"
   ]
  },
  {
   "attachments": {},
   "cell_type": "markdown",
   "metadata": {},
   "source": [
    "## d)\n",
    "\n",
    "Wieviele Werte fehlen pro Spalte? Geben Sie Ihre Resultate absolut und in Prozent aus. "
   ]
  },
  {
   "cell_type": "code",
   "execution_count": null,
   "metadata": {},
   "outputs": [],
   "source": []
  },
  {
   "attachments": {},
   "cell_type": "markdown",
   "metadata": {},
   "source": [
    "## e)\n",
    "\n",
    "Das Feld `'corona_result'` ist für statistische Analysen einfacher zu verwenden, wenn Sie 'negative' mit einer 0, 'positive' mit einer 1 und 'other' mit einem fehlenden Wert repräsentieren. Passen Sie Ihr Data Frame entsprechend an und verfahren Sie im gleichen Stil mit `'age_60_and_above'`."
   ]
  },
  {
   "cell_type": "code",
   "execution_count": 37,
   "metadata": {},
   "outputs": [],
   "source": [
    "df['corona_result'] = df['corona_result'].replace({'negative': 0, 'positive': 1, 'other': float('nan')}).astype(float)\n",
    "df['age_60_and_above'] = df['age_60_and_above'].replace({'No': 0, 'Yes': 1}).astype(float)"
   ]
  },
  {
   "cell_type": "code",
   "execution_count": 39,
   "metadata": {},
   "outputs": [
    {
     "name": "stdout",
     "output_type": "stream",
     "text": [
      "Unique values of 'corona_result':\n",
      "   0.0 (Count: 260227, Percentage: 93.32%)\n",
      "   1.0 (Count: 14729, Percentage: 5.28%)\n",
      "   nan (Count: 3892, Percentage: 1.40%)\n",
      "Unique values of 'age_60_and_above':\n",
      "   nan (Count: 127320, Percentage: 45.66%)\n",
      "   1.0 (Count: 25825, Percentage: 9.26%)\n",
      "   0.0 (Count: 125703, Percentage: 45.08%)\n"
     ]
    }
   ],
   "source": [
    "columns = ['corona_result', 'age_60_and_above']\n",
    "print_unique_values(df, columns)"
   ]
  },
  {
   "attachments": {},
   "cell_type": "markdown",
   "metadata": {},
   "source": [
    "## f)\n",
    "\n",
    "Untersuchen Sie die Variable `'test_indication'`. Welche der drei möglichen Test-Indikationen korrespondiert prozentual mit am meisten positiven Testergebnissen?"
   ]
  },
  {
   "cell_type": "code",
   "execution_count": 40,
   "metadata": {},
   "outputs": [
    {
     "name": "stdout",
     "output_type": "stream",
     "text": [
      "Unique values of 'test_indication':\n",
      "   Contact with confirmed (Count: 7318, Percentage: 49.68%)\n",
      "   Other (Count: 5542, Percentage: 37.63%)\n",
      "   Abroad (Count: 1869, Percentage: 12.69%)\n"
     ]
    }
   ],
   "source": [
    "columns = ['test_indication']\n",
    "print_unique_values(df[df['corona_result'] == 1], columns)"
   ]
  },
  {
   "attachments": {},
   "cell_type": "markdown",
   "metadata": {},
   "source": [
    "## g)\n",
    "\n",
    "Im folgenden möchten wir nur die Symptome 'cough', 'fever', 'sore_throat', 'shortness_of_breath' und 'head_ache' untersuchen. Berechnen Sie das durchschnittliche Auftreten in Prozent dieser Symptome für getestete Personen mit und ohne Covid19. Überlegen Sie sich eine Reihenfolge, wie Sie die einzelnen Symptome priorisieren würden."
   ]
  },
  {
   "cell_type": "code",
   "execution_count": 50,
   "metadata": {},
   "outputs": [
    {
     "name": "stdout",
     "output_type": "stream",
     "text": [
      "Unique values of 'cough with covid positive':\n",
      "   0.0 (Count: 34987, Percentage: 82.85%)\n",
      "   1.0 (Count: 6584, Percentage: 15.59%)\n",
      "   nan (Count: 657, Percentage: 1.56%)\n",
      "Unique values of 'fever with covid positive':\n",
      "   0.0 (Count: 15816, Percentage: 72.71%)\n",
      "   nan (Count: 377, Percentage: 1.73%)\n",
      "   1.0 (Count: 5559, Percentage: 25.56%)\n",
      "Unique values of 'sore_throat with covid positive':\n",
      "   0.0 (Count: 366, Percentage: 19.00%)\n",
      "   1.0 (Count: 1526, Percentage: 79.23%)\n",
      "   nan (Count: 34, Percentage: 1.77%)\n",
      "Unique values of 'shortness_of_breath with covid positive':\n",
      "   0.0 (Count: 385, Percentage: 24.41%)\n",
      "   1.0 (Count: 1164, Percentage: 73.81%)\n",
      "   nan (Count: 28, Percentage: 1.78%)\n",
      "Unique values of 'head_ache with covid positive':\n",
      "   0.0 (Count: 148, Percentage: 6.13%)\n",
      "   1.0 (Count: 2235, Percentage: 92.58%)\n",
      "   nan (Count: 31, Percentage: 1.28%)\n"
     ]
    }
   ],
   "source": [
    "def print_unique_values_rev(df, columns, s):\n",
    "    total_rows = df.shape[0]\n",
    "    for column in columns:\n",
    "        unique_values = df[column].unique()\n",
    "        print(\"Unique values of '{} with covid positive':\".format(s))\n",
    "        for value in unique_values:\n",
    "            if pd.isnull(value):\n",
    "                count = df[column].isnull().sum()\n",
    "            else:\n",
    "                count = df[df[column] == value].shape[0]\n",
    "            percentage = (count / total_rows) * 100\n",
    "            print(\"   {} (Count: {}, Percentage: {:.2f}%)\".format(value, count, percentage))\n",
    "\n",
    "\n",
    "columns = ['corona_result']\n",
    "print_unique_values_rev(df[df['cough'] == 1], columns, 'cough')\n",
    "print_unique_values_rev(df[df['fever'] == 1], columns,'fever')\n",
    "print_unique_values_rev(df[df['sore_throat'] == 1], columns, 'sore_throat')\n",
    "print_unique_values_rev(df[df['shortness_of_breath'] == 1], columns, 'shortness_of_breath')\n",
    "print_unique_values_rev(df[df['head_ache'] == 1], columns, 'head_ache')"
   ]
  },
  {
   "attachments": {},
   "cell_type": "markdown",
   "metadata": {},
   "source": [
    "## h)\n",
    "\n",
    "Sie möchten gerne ein ML-Modell trainieren, das versucht, aus den gegebenen Input-Features das Testresultat vorherzusagen. Ein sehr grosser Teil der Spalte `'age_60_and_above'` fehlt jedoch, darum möchte man eher auf das Entfernen der Spalten mit den fehlenden Werten verzichten. Nennen Sie zwei konkrete Strategien, wie man mit fehlenden Werten umgehen könnte. Was sind ihre Vor- und Nachteile?"
   ]
  }
 ],
 "metadata": {
  "kernelspec": {
   "display_name": "Data_Wrangling_Challenges-kWIRVacj",
   "language": "python",
   "name": "python3"
  },
  "language_info": {
   "codemirror_mode": {
    "name": "ipython",
    "version": 3
   },
   "file_extension": ".py",
   "mimetype": "text/x-python",
   "name": "python",
   "nbconvert_exporter": "python",
   "pygments_lexer": "ipython3",
   "version": "3.10.9"
  },
  "orig_nbformat": 4
 },
 "nbformat": 4,
 "nbformat_minor": 2
}
